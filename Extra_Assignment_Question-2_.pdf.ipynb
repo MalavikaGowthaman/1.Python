{
 "cells": [
  {
   "cell_type": "code",
   "execution_count": 1,
   "id": "a28f4a59",
   "metadata": {},
   "outputs": [
    {
     "name": "stdout",
     "output_type": "stream",
     "text": [
      "0\n",
      "1\n",
      "2\n",
      "3\n",
      "4\n",
      "5\n",
      "6\n",
      "7\n",
      "8\n",
      "9\n",
      "10\n",
      "11\n",
      "12\n",
      "13\n",
      "14\n",
      "15\n",
      "16\n",
      "17\n",
      "18\n",
      "19\n"
     ]
    }
   ],
   "source": [
    "# print 0 to 20 by using range\n",
    "\n",
    "for num in range(0,20):\n",
    "    print(num)"
   ]
  },
  {
   "cell_type": "code",
   "execution_count": 3,
   "id": "a22c56a1",
   "metadata": {},
   "outputs": [
    {
     "name": "stdout",
     "output_type": "stream",
     "text": [
      "10 11 12 13 14 15 16 17 18 19 "
     ]
    }
   ],
   "source": [
    "# print range 10 to 20\n",
    "\n",
    "for num in range(10,20):\n",
    "    print(num, end =' ') # end = ' ' is used to separate by space"
   ]
  },
  {
   "cell_type": "code",
   "execution_count": 6,
   "id": "9bd1ba3d",
   "metadata": {},
   "outputs": [
    {
     "name": "stdout",
     "output_type": "stream",
     "text": [
      "5\n"
     ]
    }
   ],
   "source": [
    "# Print number of items in the list by using 'len'\n",
    "\n",
    "items = [\"A\",\"B\",\"c\",\"D\",\"E\",]\n",
    "num_of_items = len(items)\n",
    "print(num_of_items)"
   ]
  },
  {
   "cell_type": "code",
   "execution_count": 7,
   "id": "9d899dba",
   "metadata": {},
   "outputs": [
    {
     "name": "stdout",
     "output_type": "stream",
     "text": [
      "Number of item in the List2 : 7\n"
     ]
    }
   ],
   "source": [
    "# [10, 20, 14, 55, 43, 87, 76]\n",
    "# Number of item in the List2:\n",
    "# 7\n",
    "\n",
    "List2 = [10, 20, 14, 55, 43, 87, 76]\n",
    "num_of_items2 = len(List2)\n",
    "print(\"Number of item in the List2 :\",num_of_items2)"
   ]
  },
  {
   "cell_type": "code",
   "execution_count": 8,
   "id": "67336333",
   "metadata": {},
   "outputs": [
    {
     "name": "stdout",
     "output_type": "stream",
     "text": [
      "A\n",
      "r\n",
      "t\n",
      "i\n",
      "f\n",
      "i\n",
      "c\n",
      "i\n",
      "a\n",
      "l\n",
      " \n",
      "I\n",
      "n\n",
      "t\n",
      "e\n",
      "l\n",
      "l\n",
      "i\n",
      "g\n",
      "e\n",
      "n\n",
      "c\n",
      "e\n"
     ]
    }
   ],
   "source": [
    "# iterate Artificial Intelligence\n",
    "\n",
    "word = \"Artificial Intelligence\"\n",
    "\n",
    "for i in word:\n",
    "    print(i)"
   ]
  },
  {
   "cell_type": "code",
   "execution_count": 9,
   "id": "f43524e3",
   "metadata": {},
   "outputs": [
    {
     "name": "stdout",
     "output_type": "stream",
     "text": [
      "-Your Name-Malavika\n",
      "-Your Age-26\n",
      "-Your Profession-Employee\n"
     ]
    }
   ],
   "source": [
    "# -Your Name-\n",
    "# -Your Age-\n",
    "# -Your Profession-\n",
    "\n",
    "\n",
    "name = input(\"-Your Name-\")\n",
    "age = input(\"-Your Age-\")\n",
    "profession = input(\"-Your Profession-\")"
   ]
  },
  {
   "cell_type": "code",
   "execution_count": 10,
   "id": "d7c8f0e4",
   "metadata": {},
   "outputs": [
    {
     "name": "stdout",
     "output_type": "stream",
     "text": [
      "(1, 'Welcome', 2, 'Hope')\n"
     ]
    }
   ],
   "source": [
    "# Refer this link : https://www.geeksforgeeks.org/python-tuples/\n",
    "# Print yhis mixered datatype using Tuples\n",
    "# (1, 'Welcome', 2, 'Hope')\n",
    "\n",
    "tuple1 = (1, 'Welcome', 2, 'Hope')\n",
    "print(tuple1)"
   ]
  },
  {
   "cell_type": "code",
   "execution_count": 11,
   "id": "45c0c237",
   "metadata": {},
   "outputs": [
    {
     "name": "stdout",
     "output_type": "stream",
     "text": [
      "The nested tuple be:  ((0, 1, 2, 3), ('python', 'HOPE'))\n"
     ]
    }
   ],
   "source": [
    "# Refer this link : https://www.geeksforgeeks.org/python-tuples/\n",
    "# Tuple1 = (0, 1, 2, 3)\n",
    "# ((0, 1, 2, 3), ('python', 'HOPE'))\n",
    "\n",
    "tuple1 = (0, 1, 2, 3)\n",
    "tuple2 = ('python', 'HOPE')\n",
    "tuple3 = (tuple1,tuple2)\n",
    "print(\"The nested tuple be: \",tuple3)"
   ]
  },
  {
   "cell_type": "code",
   "execution_count": 17,
   "id": "5902a254",
   "metadata": {},
   "outputs": [
    {
     "name": "stdout",
     "output_type": "stream",
     "text": [
      "19 is odd number\n",
      "25 is odd number\n",
      "1 is odd number\n"
     ]
    }
   ],
   "source": [
    "# print Odd Numbers in the list\n",
    "# (20,10,16,19,25,1,276,188)\n",
    "# 19 is odd\n",
    "# 25 is odd\n",
    "# 1 is odd\n",
    "\n",
    "number = (20,10,16,19,25,1,276,188)\n",
    "\n",
    "for a in number:\n",
    "    if (a%2) == 1:\n",
    "        print(a, \"is odd number\")"
   ]
  },
  {
   "cell_type": "code",
   "execution_count": 18,
   "id": "e0537ae8",
   "metadata": {},
   "outputs": [
    {
     "name": "stdout",
     "output_type": "stream",
     "text": [
      "20 is even number\n",
      "10 is even number\n",
      "16 is even number\n",
      "276 is even number\n",
      "188 is even number\n"
     ]
    }
   ],
   "source": [
    "# print Even numbers in the list\n",
    "# (20,10,16,19,25,1,276,188)\n",
    "# 20 is odd\n",
    "# 10 is odd\n",
    "# 16 is odd\n",
    "# 276 is odd\n",
    "# 188 is odd\n",
    "\n",
    "for b in number:\n",
    "    if (b%2) == 0:\n",
    "        print(b, \"is even number\")"
   ]
  },
  {
   "cell_type": "code",
   "execution_count": null,
   "id": "cd8a2166",
   "metadata": {},
   "outputs": [],
   "source": []
  }
 ],
 "metadata": {
  "kernelspec": {
   "display_name": "Python 3 (ipykernel)",
   "language": "python",
   "name": "python3"
  },
  "language_info": {
   "codemirror_mode": {
    "name": "ipython",
    "version": 3
   },
   "file_extension": ".py",
   "mimetype": "text/x-python",
   "name": "python",
   "nbconvert_exporter": "python",
   "pygments_lexer": "ipython3",
   "version": "3.11.7"
  }
 },
 "nbformat": 4,
 "nbformat_minor": 5
}
