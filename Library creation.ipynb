{
 "cells": [
  {
   "cell_type": "code",
   "execution_count": 2,
   "id": "5c0d3c0f",
   "metadata": {},
   "outputs": [],
   "source": [
    "# from filename import classname\n",
    "from Faircopy import Multifunction"
   ]
  },
  {
   "cell_type": "code",
   "execution_count": 3,
   "id": "248eb72e",
   "metadata": {},
   "outputs": [
    {
     "name": "stdout",
     "output_type": "stream",
     "text": [
      "Height:32\n",
      "Breadth:34\n",
      "Area_formula : (Height*Breadth)/2\n",
      "Area of Triangle:  544.0\n",
      "Height1: 2\n",
      "Height2: 2\n",
      "Breadth: 4\n",
      "Perimeter_formula : Height1+Height2+Breadth\n",
      "Perimeter of triangle:  8\n"
     ]
    }
   ],
   "source": [
    "#classname.functionname()\n",
    "Multifunction.Area_triangle()\n",
    "Multifunction.Perimeter_triangle()"
   ]
  },
  {
   "cell_type": "code",
   "execution_count": 4,
   "id": "2ad171c6",
   "metadata": {},
   "outputs": [
    {
     "name": "stdout",
     "output_type": "stream",
     "text": [
      "Enter a number:23\n",
      "23 is a odd number\n"
     ]
    }
   ],
   "source": [
    "Multifunction.OddEven()\n"
   ]
  },
  {
   "cell_type": "code",
   "execution_count": 5,
   "id": "429b2937",
   "metadata": {},
   "outputs": [
    {
     "name": "stdout",
     "output_type": "stream",
     "text": [
      "Subject1=78\n",
      "Subject2=98\n",
      "Subject3=98\n",
      "Subject4=67\n",
      "Subject5=87\n",
      "Total:  428\n",
      "Percentage:  85.6\n"
     ]
    }
   ],
   "source": [
    "Multifunction.percentage()\n"
   ]
  },
  {
   "cell_type": "code",
   "execution_count": 6,
   "id": "1652e89a",
   "metadata": {},
   "outputs": [
    {
     "name": "stdout",
     "output_type": "stream",
     "text": [
      "Sub-fields in AI are:\n",
      "Machine Learning\n",
      "Neural Networks\n",
      "Vision\n",
      "Robotics\n",
      "Speech Processing\n",
      "Natural Language Processing\n"
     ]
    }
   ],
   "source": [
    "\n",
    "Multifunction.Subfields()"
   ]
  },
  {
   "cell_type": "code",
   "execution_count": null,
   "id": "0fcb860e",
   "metadata": {},
   "outputs": [],
   "source": []
  }
 ],
 "metadata": {
  "kernelspec": {
   "display_name": "Python 3 (ipykernel)",
   "language": "python",
   "name": "python3"
  },
  "language_info": {
   "codemirror_mode": {
    "name": "ipython",
    "version": 3
   },
   "file_extension": ".py",
   "mimetype": "text/x-python",
   "name": "python",
   "nbconvert_exporter": "python",
   "pygments_lexer": "ipython3",
   "version": "3.11.7"
  }
 },
 "nbformat": 4,
 "nbformat_minor": 5
}
