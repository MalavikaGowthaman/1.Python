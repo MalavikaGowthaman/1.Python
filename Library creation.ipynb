{
 "cells": [
  {
   "cell_type": "code",
   "execution_count": 9,
   "id": "5c0d3c0f",
   "metadata": {},
   "outputs": [],
   "source": [
    "# from filename import classname\n",
    "from Faircopy import Multifunction"
   ]
  },
  {
   "cell_type": "code",
   "execution_count": 10,
   "id": "248eb72e",
   "metadata": {},
   "outputs": [
    {
     "name": "stdout",
     "output_type": "stream",
     "text": [
      "Height:32\n",
      "Breadth:34\n",
      "Area_formula : (Height*Breadth)/2\n",
      "Area of Triangle:  544.0\n",
      "Height1: 2\n",
      "Height2: 3\n",
      "Breadth: 4\n",
      "Perimeter_formula : Height1+Height2+Breadth\n",
      "Perimeter of triangle:  9\n"
     ]
    }
   ],
   "source": [
    "#classname.functionname()\n",
    "Multifunction.Area_triangle()\n",
    "Multifunction.Perimeter_triangle()"
   ]
  },
  {
   "cell_type": "code",
   "execution_count": 12,
   "id": "2ad171c6",
   "metadata": {},
   "outputs": [
    {
     "name": "stdout",
     "output_type": "stream",
     "text": [
      "Enter a number:90\n",
      "90 is a even number\n",
      "Subject1=98\n",
      "Subject2=96\n",
      "Subject3=97\n",
      "Subject4=95\n",
      "Subject5=89\n",
      "Total:  475\n",
      "Percentage:  95.0\n",
      "Sub-fields in AI are:\n",
      "Machine Learning\n",
      "Neural Networks\n",
      "Vision\n",
      "Robotics\n",
      "Speech Processing\n",
      "Natural Language Processing\n"
     ]
    }
   ],
   "source": [
    "Multifunction.OddEven()\n",
    "Multifunction.percentage()\n",
    "Multifunction.Subfields()"
   ]
  },
  {
   "cell_type": "code",
   "execution_count": null,
   "id": "429b2937",
   "metadata": {},
   "outputs": [],
   "source": []
  }
 ],
 "metadata": {
  "kernelspec": {
   "display_name": "Python 3 (ipykernel)",
   "language": "python",
   "name": "python3"
  },
  "language_info": {
   "codemirror_mode": {
    "name": "ipython",
    "version": 3
   },
   "file_extension": ".py",
   "mimetype": "text/x-python",
   "name": "python",
   "nbconvert_exporter": "python",
   "pygments_lexer": "ipython3",
   "version": "3.11.7"
  }
 },
 "nbformat": 4,
 "nbformat_minor": 5
}
