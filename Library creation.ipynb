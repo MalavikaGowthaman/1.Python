{
 "cells": [
  {
   "cell_type": "code",
   "execution_count": 2,
   "id": "9c99cace",
   "metadata": {},
   "outputs": [],
   "source": [
    "# from filename import classname\n",
    "from Triangle import triangle"
   ]
  },
  {
   "cell_type": "code",
   "execution_count": 5,
   "id": "1685e0db",
   "metadata": {},
   "outputs": [
    {
     "name": "stdout",
     "output_type": "stream",
     "text": [
      "Height:32\n",
      "Breadth:34\n",
      "Area_formula : (Height*Breadth)/2\n",
      "Area of Triangle:  544.0\n",
      "Height1: 2\n",
      "Height2: 4\n",
      "Breadth: 4\n",
      "Perimeter_formula : Height1+Height2+Breadth\n",
      "Perimeter of triangle:  10\n"
     ]
    }
   ],
   "source": [
    "#classname.functionname()\n",
    "triangle.Area_triangle()\n",
    "triangle.Perimeter_triangle()"
   ]
  },
  {
   "cell_type": "code",
   "execution_count": null,
   "id": "5be60985",
   "metadata": {},
   "outputs": [],
   "source": []
  }
 ],
 "metadata": {
  "kernelspec": {
   "display_name": "Python 3 (ipykernel)",
   "language": "python",
   "name": "python3"
  },
  "language_info": {
   "codemirror_mode": {
    "name": "ipython",
    "version": 3
   },
   "file_extension": ".py",
   "mimetype": "text/x-python",
   "name": "python",
   "nbconvert_exporter": "python",
   "pygments_lexer": "ipython3",
   "version": "3.11.7"
  }
 },
 "nbformat": 4,
 "nbformat_minor": 5
}
