{
 "cells": [
  {
   "cell_type": "markdown",
   "id": "c70db0ce",
   "metadata": {},
   "source": [
    "Print Statement"
   ]
  },
  {
   "cell_type": "code",
   "execution_count": 2,
   "id": "49ebaf93",
   "metadata": {},
   "outputs": [
    {
     "name": "stdout",
     "output_type": "stream",
     "text": [
      "HOPE AI\n"
     ]
    }
   ],
   "source": [
    "# print HOPE AI\n",
    "\n",
    "print(\"HOPE AI\")"
   ]
  },
  {
   "cell_type": "markdown",
   "id": "d0009361",
   "metadata": {},
   "source": [
    "Input statement"
   ]
  },
  {
   "cell_type": "code",
   "execution_count": 8,
   "id": "2d3e27e5",
   "metadata": {},
   "outputs": [
    {
     "name": "stdout",
     "output_type": "stream",
     "text": [
      "Enter your institute name? : HOPE AI\n"
     ]
    }
   ],
   "source": [
    "# Buy input \n",
    "# Enter your institute name? : HOPE AI\n",
    "\n",
    "Buy_input = input(\"Enter your institute name? : \")\n"
   ]
  },
  {
   "cell_type": "code",
   "execution_count": 9,
   "id": "89c90312",
   "metadata": {},
   "outputs": [
    {
     "name": "stdout",
     "output_type": "stream",
     "text": [
      "Enter your name: Raj\n",
      "Enter your age: 15\n",
      "Enter your school name: Guru School\n",
      "Enter your drgree: B.E CSE\n"
     ]
    }
   ],
   "source": [
    "# Enter your name: Raj\n",
    "# Enter your age: 15\n",
    "# Enter your school name: Guru school\n",
    "# Enter your drgree: B.E CSE\n",
    "\n",
    "name = input(\"Enter your name: \")\n",
    "age = input(\"Enter your age: \")\n",
    "school_name = input(\"Enter your school name: \")\n",
    "degree= input(\"Enter your drgree: \")"
   ]
  },
  {
   "cell_type": "markdown",
   "id": "b41a9aa5",
   "metadata": {},
   "source": [
    "Assignment operators and variables"
   ]
  },
  {
   "cell_type": "raw",
   "id": "71347974",
   "metadata": {},
   "source": [
    "+\tAddition\t\n",
    "-\tSubtraction\t\t\n",
    "*\tMultiplication\t\n",
    "/\tDivision\t\n",
    "%\tModulus\t\t\n",
    "**\tExponentiation/Power\t\t\n",
    "//\tFloor division\t"
   ]
  },
  {
   "cell_type": "code",
   "execution_count": 10,
   "id": "5c396c0f",
   "metadata": {},
   "outputs": [
    {
     "name": "stdout",
     "output_type": "stream",
     "text": [
      "add =  77\n"
     ]
    }
   ],
   "source": [
    "# Addition\n",
    "# a= 43\n",
    "# b= 34\n",
    "# add = 77\n",
    "\n",
    "a = 43\n",
    "b = 34\n",
    "add = a + b\n",
    "print(\"add = \",add)"
   ]
  },
  {
   "cell_type": "code",
   "execution_count": 11,
   "id": "f519dc79",
   "metadata": {},
   "outputs": [
    {
     "name": "stdout",
     "output_type": "stream",
     "text": [
      "Sub =  9\n"
     ]
    }
   ],
   "source": [
    "# Subtraction\n",
    "# a= 43\n",
    "# b= 34\n",
    "# Sub = 9\n",
    "\n",
    "a = 43\n",
    "b = 34\n",
    "Sub = a - b\n",
    "print(\"Sub = \",Sub)"
   ]
  },
  {
   "cell_type": "code",
   "execution_count": 12,
   "id": "f52163f3",
   "metadata": {},
   "outputs": [
    {
     "name": "stdout",
     "output_type": "stream",
     "text": [
      "Mul =  6111\n"
     ]
    }
   ],
   "source": [
    "# Multiplication\n",
    "# a= 63\n",
    "# b= 97\n",
    "# Mul = 6111\n",
    "\n",
    "a = 63\n",
    "b = 97\n",
    "Mul = a*b\n",
    "print(\"Mul = \",Mul)"
   ]
  },
  {
   "cell_type": "code",
   "execution_count": 14,
   "id": "19407e61",
   "metadata": {},
   "outputs": [
    {
     "name": "stdout",
     "output_type": "stream",
     "text": [
      "Float Div =  2.4516129032258065\n"
     ]
    }
   ],
   "source": [
    "# Division\n",
    "# a= 76\n",
    "# b= 31\n",
    "# Float Div = 2.4516129032258065\n",
    "\n",
    "a = 76\n",
    "b = 31\n",
    "div = a/b\n",
    "print(\"Float Div = \", div)"
   ]
  },
  {
   "cell_type": "code",
   "execution_count": 20,
   "id": "d11b4e80",
   "metadata": {},
   "outputs": [
    {
     "name": "stdout",
     "output_type": "stream",
     "text": [
      "Floor Div =  2\n"
     ]
    }
   ],
   "source": [
    "# Floor Div\n",
    "# a = 76\n",
    "# b = 31\n",
    "\n",
    "a = 76\n",
    "b = 31\n",
    "f_div = a // b\n",
    "print(\"Floor Div = \",f_div)"
   ]
  },
  {
   "cell_type": "code",
   "execution_count": 15,
   "id": "ec91fa65",
   "metadata": {},
   "outputs": [
    {
     "name": "stdout",
     "output_type": "stream",
     "text": [
      "Modulo =  14\n"
     ]
    }
   ],
   "source": [
    "# Modulo\n",
    "# a= 76\n",
    "# b= 31\n",
    "# Modulo = 14\n",
    "\n",
    "a = 76\n",
    "b = 31\n",
    "Mod = a%b\n",
    "print(\"Modulo = \",Mod)"
   ]
  },
  {
   "cell_type": "code",
   "execution_count": 19,
   "id": "402378df",
   "metadata": {},
   "outputs": [
    {
     "name": "stdout",
     "output_type": "stream",
     "text": [
      "Power =  256\n"
     ]
    }
   ],
   "source": [
    "# Power\n",
    "# a= 4\n",
    "# b= 4\n",
    "# Power = 256\n",
    "\n",
    "a = 4\n",
    "b = 4\n",
    "power = a**b\n",
    "print(\"Power = \",power)"
   ]
  },
  {
   "cell_type": "code",
   "execution_count": null,
   "id": "a0415457",
   "metadata": {},
   "outputs": [],
   "source": []
  }
 ],
 "metadata": {
  "kernelspec": {
   "display_name": "Python 3 (ipykernel)",
   "language": "python",
   "name": "python3"
  },
  "language_info": {
   "codemirror_mode": {
    "name": "ipython",
    "version": 3
   },
   "file_extension": ".py",
   "mimetype": "text/x-python",
   "name": "python",
   "nbconvert_exporter": "python",
   "pygments_lexer": "ipython3",
   "version": "3.11.7"
  }
 },
 "nbformat": 4,
 "nbformat_minor": 5
}
