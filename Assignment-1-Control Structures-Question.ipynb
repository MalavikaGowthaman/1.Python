{
 "cells": [
  {
   "cell_type": "markdown",
   "id": "ed87fbd8",
   "metadata": {},
   "source": [
    "Print Welcome to Assignment-1"
   ]
  },
  {
   "cell_type": "code",
   "execution_count": 1,
   "id": "321c1f01",
   "metadata": {},
   "outputs": [
    {
     "name": "stdout",
     "output_type": "stream",
     "text": [
      "Welcome to Assignment-1\n"
     ]
    }
   ],
   "source": [
    "print(\"Welcome to Assignment-1\")"
   ]
  },
  {
   "cell_type": "markdown",
   "id": "776eba5c",
   "metadata": {},
   "source": [
    "Sum of two numbers\n",
    "\n",
    "Num1= 10\n",
    "Num2= 30\n",
    "Add= 40\n"
   ]
  },
  {
   "cell_type": "code",
   "execution_count": 2,
   "id": "90eff735",
   "metadata": {},
   "outputs": [
    {
     "name": "stdout",
     "output_type": "stream",
     "text": [
      "Num1= 10\n",
      "Num2= 30\n",
      "Add = 40\n"
     ]
    }
   ],
   "source": [
    "Num1 = int(input('Num1= '))\n",
    "Num2 = int(input('Num2= '))\n",
    "\n",
    "add = Num1 + Num2\n",
    "print(\"Add =\", add)"
   ]
  },
  {
   "cell_type": "markdown",
   "id": "5a2a5c6a",
   "metadata": {},
   "source": [
    "Body Mass Index\n",
    "\n",
    "Enter the BMI Index:34\n",
    "Very Overweight\n"
   ]
  },
  {
   "cell_type": "raw",
   "id": "5b1b6a56",
   "metadata": {},
   "source": [
    "Classification\tBMI range - kg/m2\n",
    "Severe Thinness\t< 16\n",
    "Moderate Thinness\t16 - 17\n",
    "Mild Thinness\t17 - 18.5\n",
    "Normal\t18.5 - 25\n",
    "Overweight\t25 - 30\n",
    "Obese Class I\t30 - 35\n",
    "Obese Class II\t35 - 40\n",
    "Obese Class III\t> 40"
   ]
  },
  {
   "cell_type": "code",
   "execution_count": 5,
   "id": "81162cc8",
   "metadata": {},
   "outputs": [
    {
     "name": "stdout",
     "output_type": "stream",
     "text": [
      "Enter the BMI Index: 34\n",
      "Very OverWeight\n"
     ]
    }
   ],
   "source": [
    "Bmi = int(input(\"Enter the BMI Index: \"))\n",
    "if (Bmi > 30):\n",
    "    print(\"Very OverWeight\")"
   ]
  },
  {
   "cell_type": "code",
   "execution_count": 12,
   "id": "91d77a3f",
   "metadata": {},
   "outputs": [
    {
     "name": "stdout",
     "output_type": "stream",
     "text": [
      "Enter the BMI Index: 15\n",
      "Severe Thinness\n"
     ]
    }
   ],
   "source": [
    "Bmi = int(input(\"Enter the BMI Index: \"))\n",
    "\n",
    "if (Bmi < 16):\n",
    "    print(\"Severe Thinness\")\n",
    "elif(Bmi <= 17):\n",
    "    print(\"Moderate Thinness\")\n",
    "elif(Bmi <= 18):\n",
    "    print(\"Mild Thinness\")\n",
    "elif(Bmi <= 25):\n",
    "    print(\"Normal\")\n",
    "else:\n",
    "    print(\"Over Weight\")"
   ]
  },
  {
   "cell_type": "code",
   "execution_count": 13,
   "id": "c1e17054",
   "metadata": {},
   "outputs": [
    {
     "name": "stdout",
     "output_type": "stream",
     "text": [
      "Enter the BMI Index: 17\n",
      "Moderate Thinness\n"
     ]
    }
   ],
   "source": [
    "Bmi = int(input(\"Enter the BMI Index: \"))\n",
    "\n",
    "if (Bmi < 16):\n",
    "    print(\"Severe Thinness\")\n",
    "elif(Bmi <= 17):\n",
    "    print(\"Moderate Thinness\")\n",
    "elif(Bmi <= 18):\n",
    "    print(\"Mild Thinness\")\n",
    "elif(Bmi <= 25):\n",
    "    print(\"Normal\")\n",
    "else:\n",
    "    print(\"Over Weight\")"
   ]
  },
  {
   "cell_type": "code",
   "execution_count": 14,
   "id": "45cbd49a",
   "metadata": {},
   "outputs": [
    {
     "name": "stdout",
     "output_type": "stream",
     "text": [
      "Enter the BMI Index: 18\n",
      "Mild Thinness\n"
     ]
    }
   ],
   "source": [
    "Bmi = int(input(\"Enter the BMI Index: \"))\n",
    "\n",
    "if (Bmi < 16):\n",
    "    print(\"Severe Thinness\")\n",
    "elif(Bmi <= 17):\n",
    "    print(\"Moderate Thinness\")\n",
    "elif(Bmi <= 18):\n",
    "    print(\"Mild Thinness\")\n",
    "elif(Bmi <= 25):\n",
    "    print(\"Normal\")\n",
    "else:\n",
    "    print(\"Over Weight\")"
   ]
  },
  {
   "cell_type": "code",
   "execution_count": 15,
   "id": "f68a1b81",
   "metadata": {},
   "outputs": [
    {
     "name": "stdout",
     "output_type": "stream",
     "text": [
      "Enter the BMI Index: 25\n",
      "Normal\n"
     ]
    }
   ],
   "source": [
    "Bmi = int(input(\"Enter the BMI Index: \"))\n",
    "\n",
    "if (Bmi < 16):\n",
    "    print(\"Severe Thinness\")\n",
    "elif(Bmi <= 17):\n",
    "    print(\"Moderate Thinness\")\n",
    "elif(Bmi <= 18):\n",
    "    print(\"Mild Thinness\")\n",
    "elif(Bmi <= 25):\n",
    "    print(\"Normal\")\n",
    "else:\n",
    "    print(\"Over Weight\")"
   ]
  },
  {
   "cell_type": "code",
   "execution_count": 16,
   "id": "d64e1890",
   "metadata": {},
   "outputs": [
    {
     "name": "stdout",
     "output_type": "stream",
     "text": [
      "Enter the BMI Index: 30\n",
      "Over Weight\n"
     ]
    }
   ],
   "source": [
    "Bmi = int(input(\"Enter the BMI Index: \"))\n",
    "\n",
    "if (Bmi < 16):\n",
    "    print(\"Severe Thinness\")\n",
    "elif(Bmi <= 17):\n",
    "    print(\"Moderate Thinness\")\n",
    "elif(Bmi <= 18):\n",
    "    print(\"Mild Thinness\")\n",
    "elif(Bmi <= 25):\n",
    "    print(\"Normal\")\n",
    "else:\n",
    "    print(\"Over Weight\")"
   ]
  },
  {
   "cell_type": "code",
   "execution_count": null,
   "id": "48b5fae4",
   "metadata": {},
   "outputs": [],
   "source": []
  }
 ],
 "metadata": {
  "kernelspec": {
   "display_name": "Python 3 (ipykernel)",
   "language": "python",
   "name": "python3"
  },
  "language_info": {
   "codemirror_mode": {
    "name": "ipython",
    "version": 3
   },
   "file_extension": ".py",
   "mimetype": "text/x-python",
   "name": "python",
   "nbconvert_exporter": "python",
   "pygments_lexer": "ipython3",
   "version": "3.11.7"
  }
 },
 "nbformat": 4,
 "nbformat_minor": 5
}
