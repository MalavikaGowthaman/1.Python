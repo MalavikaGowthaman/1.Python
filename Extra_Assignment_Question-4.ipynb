{
 "cells": [
  {
   "cell_type": "code",
   "execution_count": 1,
   "id": "d0c074b8",
   "metadata": {},
   "outputs": [
    {
     "name": "stdout",
     "output_type": "stream",
     "text": [
      "Sub-fields in AI are:\n",
      "Machine Learning\n",
      "Neural Networks\n",
      "Vision\n",
      "Robotics\n",
      "Speech Processing\n",
      "Natural Language Processing\n"
     ]
    }
   ],
   "source": [
    "# Create a class and function, and list out the items in the list\n",
    "# SubfieldsInAI.Subfields()\n",
    "# Sub-fields in AI are:\n",
    "# Machine Learning\n",
    "# Neural Networks\n",
    "# Vision\n",
    "# Robotics\n",
    "# Speech Processing\n",
    "# Natural Language Processing\n",
    "\n",
    "items = ['Machine Learning','Neural Networks','Vision','Robotics','Speech Processing','Natural Language Processing']\n",
    "\n",
    "class SubfieldsInAI():\n",
    "    def Subfields():\n",
    "        print(\"Sub-fields in AI are:\")\n",
    "        for sf in items:\n",
    "            print(sf)\n",
    "SubfieldsInAI.Subfields()"
   ]
  },
  {
   "cell_type": "code",
   "execution_count": 2,
   "id": "3a6d55e4",
   "metadata": {},
   "outputs": [
    {
     "name": "stdout",
     "output_type": "stream",
     "text": [
      "Enter a number:52452\n",
      "52452 is a even number\n"
     ]
    }
   ],
   "source": [
    "# odd or even\n",
    "# Enter a number: 52452\n",
    "# 52452 is Even number\n",
    "\n",
    "class OddEven():\n",
    "    def OddEven():\n",
    "        num = int(input(\"Enter a number:\"))\n",
    "        if(num%2)==0:\n",
    "            print(num, \"is a even number\")\n",
    "        else:\n",
    "            print(num, \"is a odd number\")\n",
    "\n",
    "OddEven.OddEven()"
   ]
  },
  {
   "cell_type": "code",
   "execution_count": 5,
   "id": "4ac742bb",
   "metadata": {},
   "outputs": [
    {
     "name": "stdout",
     "output_type": "stream",
     "text": [
      "Your Gender:Male\n",
      "Your Age:20\n",
      "NOT ELIGIBLE\n"
     ]
    }
   ],
   "source": [
    "# Create a function that tells elegibility of marriage for male and female according to their age limit like 21 for male and 18 for female\n",
    "# ElegiblityForMarriage.Elegible()    \n",
    "# Your Gender:Male\n",
    "# Your Age:20\n",
    "# NOT ELIGIBLE\n",
    "\n",
    "class ElegiblityForMarriage():\n",
    "    def Elegible():\n",
    "        gender = input(\"Your Gender:\")\n",
    "        age = int(input(\"Your Age:\"))\n",
    "        \n",
    "        if (gender == \"Male\"):\n",
    "            if (age<21):\n",
    "                print(\"NOT ELIGIBLE\")\n",
    "            else:\n",
    "                print(\"ELIGIBLE\")\n",
    "        elif(gender == \"Female\"):\n",
    "            if (age<18):\n",
    "                print(\"NOT ELIGIBLE\")\n",
    "            else:\n",
    "                print(\"ELIGIBLE\")\n",
    "        return\n",
    "            \n",
    "ElegiblityForMarriage.Elegible()        \n",
    "        "
   ]
  },
  {
   "cell_type": "code",
   "execution_count": 14,
   "id": "5cc2f1c1",
   "metadata": {},
   "outputs": [
    {
     "name": "stdout",
     "output_type": "stream",
     "text": [
      "Total:  468\n",
      "Percentage:  93.60000000000001\n"
     ]
    }
   ],
   "source": [
    "# calculate the percentage of your 10th mark\n",
    "# FindPercent.percentage()\n",
    "# Subject1= 98\n",
    "# Subject2= 87\n",
    "# Subject3= 95\n",
    "# Subject4= 95\n",
    "# Subject5= 93\n",
    "# Total : 468\n",
    "# Percentage : 93.60000000000001\n",
    "\n",
    "class FindPercent():\n",
    "    def percentage():\n",
    "        \n",
    "#marks given\n",
    "        Subject1= 98\n",
    "        Subject2= 87\n",
    "        Subject3= 95\n",
    "        Subject4= 95\n",
    "        Subject5= 93\n",
    "\n",
    "#total marks\n",
    "        Total = Subject1+Subject2+Subject3+Subject4+Subject5\n",
    "        print(\"Total: \", Total)\n",
    "\n",
    "#total subjects\n",
    "        Totalsubject = 5\n",
    "        \n",
    "#percentage of marks\n",
    "        percent = (Total / (Totalsubject * 100) *100)\n",
    "        print(\"Percentage: \",percent)\n",
    "        return \n",
    "\n",
    "\n",
    "FindPercent.percentage()       \n",
    "        "
   ]
  },
  {
   "cell_type": "code",
   "execution_count": 1,
   "id": "587342b5",
   "metadata": {},
   "outputs": [
    {
     "name": "stdout",
     "output_type": "stream",
     "text": [
      "Subject1=98\n",
      "Subject2=87\n",
      "Subject3=95\n",
      "Subject4=95\n",
      "Subject5=93\n",
      "Total:  468\n",
      "Percentage:  93.60000000000001\n"
     ]
    }
   ],
   "source": [
    "class FindPercent():\n",
    "    def percentage():\n",
    "\n",
    "# getting user input\n",
    "        Subject1= int(input(\"Subject1=\"))\n",
    "        Subject2= int(input(\"Subject2=\"))\n",
    "        Subject3= int(input(\"Subject3=\"))\n",
    "        Subject4= int(input(\"Subject4=\"))\n",
    "        Subject5= int(input(\"Subject5=\"))\n",
    "\n",
    "#total marks\n",
    "        Total = Subject1+Subject2+Subject3+Subject4+Subject5\n",
    "        print(\"Total: \", Total)\n",
    "                \n",
    "#total subjects\n",
    "        Totalsubject = 5\n",
    "                      \n",
    "#percentage of marks\n",
    "        percent = (Total / (Totalsubject * 100) *100)\n",
    "        print(\"Percentage: \",percent)\n",
    "        return \n",
    "\n",
    "\n",
    "FindPercent.percentage() "
   ]
  },
  {
   "cell_type": "code",
   "execution_count": 5,
   "id": "58519fab",
   "metadata": {},
   "outputs": [
    {
     "name": "stdout",
     "output_type": "stream",
     "text": [
      "Height:32\n",
      "Breadth:34\n",
      "Area_formula : (Height*Breadth)/2\n",
      "Area of Triangle:  544.0\n",
      "Height1: 2\n",
      "Height2: 4\n",
      "Breadth: 4\n",
      "Perimeter_formula : Height1+Height2+Breadth\n",
      "Perimeter of triangle:  10\n"
     ]
    }
   ],
   "source": [
    "#print area and perimeter of triangle using class and functions\n",
    "# triangle.triangle()\n",
    "# Height:32\n",
    "# Breadth:34\n",
    "# Area formula: (Height*Breadth)/2\n",
    "# Area of Triangle: 544.0\n",
    "# Height1:2\n",
    "# Height2:4\n",
    "# Breadth:4\n",
    "# Perimeter formula: Height1+Height2+Breadth\n",
    "# Perimeter of Triangle: 10\n",
    "    \n",
    "class triangle():\n",
    "    def triangle():\n",
    "\n",
    "# getting input from users to find area of triangle\n",
    "        Height = int(input(\"Height:\"))\n",
    "        Breadth = int(input(\"Breadth:\"))\n",
    "\n",
    "# Area of triangle\n",
    "        Area_formula = (Height*Breadth)/2\n",
    "        print(\"Area_formula : (Height*Breadth)/2\")\n",
    "        print(\"Area of Triangle: \",Area_formula)\n",
    "\n",
    "# getting input from users to find perimeter of triangle\n",
    "        Height1 =int(input(\"Height1: \"))\n",
    "        Height2=int(input(\"Height2: \"))\n",
    "        Breadth=int(input(\"Breadth: \"))\n",
    "\n",
    "# perimeter of triangle\n",
    "        Perimeter_formula= Height1+Height2+Breadth\n",
    "        print(\"Perimeter_formula : Height1+Height2+Breadth\")\n",
    "        print(\"Perimeter of triangle: \",Perimeter_formula)\n",
    "        return\n",
    "triangle.triangle()"
   ]
  },
  {
   "cell_type": "code",
   "execution_count": null,
   "id": "3f356ce3",
   "metadata": {},
   "outputs": [],
   "source": []
  }
 ],
 "metadata": {
  "kernelspec": {
   "display_name": "Python 3 (ipykernel)",
   "language": "python",
   "name": "python3"
  },
  "language_info": {
   "codemirror_mode": {
    "name": "ipython",
    "version": 3
   },
   "file_extension": ".py",
   "mimetype": "text/x-python",
   "name": "python",
   "nbconvert_exporter": "python",
   "pygments_lexer": "ipython3",
   "version": "3.11.7"
  }
 },
 "nbformat": 4,
 "nbformat_minor": 5
}
