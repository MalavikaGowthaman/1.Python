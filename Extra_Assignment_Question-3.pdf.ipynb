{
 "cells": [
  {
   "cell_type": "code",
   "execution_count": 3,
   "id": "d4e4604e",
   "metadata": {},
   "outputs": [
    {
     "name": "stdout",
     "output_type": "stream",
     "text": [
      "Value:10\n",
      "Correct\n"
     ]
    }
   ],
   "source": [
    "# print 'CORRECT' if i == 10\n",
    "# value: 10\n",
    "# Corret\n",
    "\n",
    "i = int(input(\"Value:\"))\n",
    "if i == 10:\n",
    "    print(\"Correct\")"
   ]
  },
  {
   "cell_type": "code",
   "execution_count": 5,
   "id": "e965e619",
   "metadata": {},
   "outputs": [
    {
     "name": "stdout",
     "output_type": "stream",
     "text": [
      "Enter the password: HOPE@123\n",
      "Your Password is correct\n"
     ]
    }
   ],
   "source": [
    "# Check the password, using if and else\n",
    "# Enter the password: HOPE@123\n",
    "# Your password is correct\n",
    "\n",
    "password = input(\"Enter the password: \")\n",
    "\n",
    "if (password == 'HOPE@123'):\n",
    "    print(\"Your Password is correct\")\n",
    "else:\n",
    "    print(\"Your Password is incorrect\")"
   ]
  },
  {
   "cell_type": "code",
   "execution_count": 6,
   "id": "7c2d35da",
   "metadata": {},
   "outputs": [
    {
     "name": "stdout",
     "output_type": "stream",
     "text": [
      "Age: 20\n",
      "Adult\n"
     ]
    }
   ],
   "source": [
    "# Catagory the people by their age like children, adult, citizen, senior citizen...\n",
    "# age: 20\n",
    "# Adult\n",
    "\n",
    "age = int(input(\"Age: \"))\n",
    "\n",
    "if (age < 18):\n",
    "    print(\"Children\")\n",
    "elif (age < 30):\n",
    "    print(\"Adult\")\n",
    "elif (age < 50):\n",
    "    print(\"Citizen\")\n",
    "else:\n",
    "    print(\"Senior Citizen\")"
   ]
  },
  {
   "cell_type": "code",
   "execution_count": 7,
   "id": "f517f06d",
   "metadata": {},
   "outputs": [
    {
     "name": "stdout",
     "output_type": "stream",
     "text": [
      "Age: 20\n",
      "Adult\n"
     ]
    }
   ],
   "source": [
    "age = int(input(\"Age: \"))\n",
    "\n",
    "if (age < 18):\n",
    "    print(\"Children\")\n",
    "else:\n",
    "    print(\"Adult\")"
   ]
  },
  {
   "cell_type": "code",
   "execution_count": 8,
   "id": "ac7b31d9",
   "metadata": {},
   "outputs": [
    {
     "name": "stdout",
     "output_type": "stream",
     "text": [
      "Enter any number:1\n",
      "1 is a Positive number\n"
     ]
    }
   ],
   "source": [
    "# Find whether given number is positive or negative\n",
    "# Enter any number:1\n",
    "# No is positive\n",
    "\n",
    "num = int(input(\"Enter any number:\"))\n",
    "\n",
    "if (num < 0):\n",
    "    print(num, \"is a Negative number\")\n",
    "else:\n",
    "    print(num, \"is a Positive number\")"
   ]
  },
  {
   "cell_type": "code",
   "execution_count": 9,
   "id": "8c245ede",
   "metadata": {},
   "outputs": [
    {
     "name": "stdout",
     "output_type": "stream",
     "text": [
      "Enter any number:-9\n",
      "-9 is a Negative number\n"
     ]
    }
   ],
   "source": [
    "num = int(input(\"Enter any number:\"))\n",
    "\n",
    "if (num < 0):\n",
    "    print(num, \"is a Negative number\")\n",
    "else:\n",
    "    print(num, \"is a Positive number\")"
   ]
  },
  {
   "cell_type": "code",
   "execution_count": 11,
   "id": "f85f0953",
   "metadata": {},
   "outputs": [
    {
     "name": "stdout",
     "output_type": "stream",
     "text": [
      "Enter a number to check: 22\n",
      "22 is not divisible by 5\n"
     ]
    }
   ],
   "source": [
    "# Check whether the given number is divisible by 5\n",
    "# Enter a number to check:22\n",
    "# No is not divisible by 5\n",
    "\n",
    "Number = int(input(\"Enter a number to check: \"))\n",
    "\n",
    "if (Number%5) ==0:\n",
    "    print(Number, \"is divisible by 5\")\n",
    "else:\n",
    "    print(Number, \"is not divisible by 5\")"
   ]
  },
  {
   "cell_type": "code",
   "execution_count": 12,
   "id": "318de8e5",
   "metadata": {},
   "outputs": [
    {
     "name": "stdout",
     "output_type": "stream",
     "text": [
      "Enter a number to check: 30\n",
      "30 is divisible by 5\n"
     ]
    }
   ],
   "source": [
    "Number = int(input(\"Enter a number to check: \"))\n",
    "\n",
    "if (Number%5) ==0:\n",
    "    print(Number, \"is divisible by 5\")\n",
    "else:\n",
    "    print(Number, \"is not divisible by 5\")"
   ]
  },
  {
   "cell_type": "code",
   "execution_count": null,
   "id": "81a1bc88",
   "metadata": {},
   "outputs": [],
   "source": []
  }
 ],
 "metadata": {
  "kernelspec": {
   "display_name": "Python 3 (ipykernel)",
   "language": "python",
   "name": "python3"
  },
  "language_info": {
   "codemirror_mode": {
    "name": "ipython",
    "version": 3
   },
   "file_extension": ".py",
   "mimetype": "text/x-python",
   "name": "python",
   "nbconvert_exporter": "python",
   "pygments_lexer": "ipython3",
   "version": "3.11.7"
  }
 },
 "nbformat": 4,
 "nbformat_minor": 5
}
